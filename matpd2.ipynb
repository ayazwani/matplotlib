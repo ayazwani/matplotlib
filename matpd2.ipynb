{
 "cells": [
  {
   "cell_type": "code",
   "execution_count": 1,
   "metadata": {},
   "outputs": [],
   "source": [
    "from matplotlib import pyplot as plt\n",
    "import pandas as pd\n",
    "import numpy as np"
   ]
  },
  {
   "cell_type": "code",
   "execution_count": 2,
   "metadata": {},
   "outputs": [],
   "source": [
    "data = pd.read_csv(\"/home/ayaz/Desktop/Applied Informatics/flask/classcsv.csv\")"
   ]
  },
  {
   "cell_type": "code",
   "execution_count": 3,
   "metadata": {},
   "outputs": [
    {
     "data": {
      "text/html": [
       "<div>\n",
       "<style scoped>\n",
       "    .dataframe tbody tr th:only-of-type {\n",
       "        vertical-align: middle;\n",
       "    }\n",
       "\n",
       "    .dataframe tbody tr th {\n",
       "        vertical-align: top;\n",
       "    }\n",
       "\n",
       "    .dataframe thead th {\n",
       "        text-align: right;\n",
       "    }\n",
       "</style>\n",
       "<table border=\"1\" class=\"dataframe\">\n",
       "  <thead>\n",
       "    <tr style=\"text-align: right;\">\n",
       "      <th></th>\n",
       "      <th>nct_id</th>\n",
       "      <th>condition</th>\n",
       "      <th>facility_name</th>\n",
       "      <th>city</th>\n",
       "      <th>sampling_method</th>\n",
       "      <th>overall_status</th>\n",
       "      <th>study_type</th>\n",
       "      <th>country</th>\n",
       "      <th>start_date</th>\n",
       "    </tr>\n",
       "  </thead>\n",
       "  <tbody>\n",
       "    <tr>\n",
       "      <th>0</th>\n",
       "      <td>NCT04357457</td>\n",
       "      <td>Covid 19|Hypoxemic Respiratory Failure|</td>\n",
       "      <td>Hospital Pitié-Salpêtrière</td>\n",
       "      <td>Paris</td>\n",
       "      <td>NaN</td>\n",
       "      <td>Recruiting</td>\n",
       "      <td>Interventional</td>\n",
       "      <td>France</td>\n",
       "      <td>September 3, 2020</td>\n",
       "    </tr>\n",
       "    <tr>\n",
       "      <th>1</th>\n",
       "      <td>NCT04568005</td>\n",
       "      <td>Lymphedema|</td>\n",
       "      <td>Fatih Sultan Mehmet Training and Research Hosp...</td>\n",
       "      <td>Istanbul</td>\n",
       "      <td>Non-Probability Sample</td>\n",
       "      <td>Completed</td>\n",
       "      <td>Observational [Patient Registry]</td>\n",
       "      <td>Turkey</td>\n",
       "      <td>June 1, 2020</td>\n",
       "    </tr>\n",
       "    <tr>\n",
       "      <th>2</th>\n",
       "      <td>NCT04351347</td>\n",
       "      <td>COVID|</td>\n",
       "      <td>Tanta University</td>\n",
       "      <td>Tanta</td>\n",
       "      <td>NaN</td>\n",
       "      <td>Recruiting</td>\n",
       "      <td>Interventional</td>\n",
       "      <td>Egypt</td>\n",
       "      <td>June 16, 2020</td>\n",
       "    </tr>\n",
       "    <tr>\n",
       "      <th>3</th>\n",
       "      <td>NCT04389450</td>\n",
       "      <td>COVID|ARDS|</td>\n",
       "      <td>University of California Irvine</td>\n",
       "      <td>Irvine</td>\n",
       "      <td>NaN</td>\n",
       "      <td>Recruiting</td>\n",
       "      <td>Interventional</td>\n",
       "      <td>United States</td>\n",
       "      <td>August 2020</td>\n",
       "    </tr>\n",
       "    <tr>\n",
       "      <th>4</th>\n",
       "      <td>NCT04298814</td>\n",
       "      <td>COVID-19|Endotracheal Intubation|</td>\n",
       "      <td>Tongji Hospital</td>\n",
       "      <td>Wuhan</td>\n",
       "      <td>Non-Probability Sample</td>\n",
       "      <td>Withdrawn</td>\n",
       "      <td>Observational</td>\n",
       "      <td>China</td>\n",
       "      <td>August 7, 2020</td>\n",
       "    </tr>\n",
       "    <tr>\n",
       "      <th>...</th>\n",
       "      <td>...</td>\n",
       "      <td>...</td>\n",
       "      <td>...</td>\n",
       "      <td>...</td>\n",
       "      <td>...</td>\n",
       "      <td>...</td>\n",
       "      <td>...</td>\n",
       "      <td>...</td>\n",
       "      <td>...</td>\n",
       "    </tr>\n",
       "    <tr>\n",
       "      <th>3527</th>\n",
       "      <td>NCT04486404</td>\n",
       "      <td>Acute Stress Disorder|</td>\n",
       "      <td>Pontificia Universidad Católica de Chile</td>\n",
       "      <td>Santiago</td>\n",
       "      <td>Non-Probability Sample</td>\n",
       "      <td>Enrolling by invitation</td>\n",
       "      <td>Observational</td>\n",
       "      <td>Chile</td>\n",
       "      <td>April 1, 2020</td>\n",
       "    </tr>\n",
       "    <tr>\n",
       "      <th>3528</th>\n",
       "      <td>NCT04539795</td>\n",
       "      <td>Covid19|</td>\n",
       "      <td>UAB Lung Health Center</td>\n",
       "      <td>Birmingham</td>\n",
       "      <td>NaN</td>\n",
       "      <td>Not yet recruiting</td>\n",
       "      <td>Interventional</td>\n",
       "      <td>United States</td>\n",
       "      <td>October 1, 2020</td>\n",
       "    </tr>\n",
       "    <tr>\n",
       "      <th>3529</th>\n",
       "      <td>NCT04359264</td>\n",
       "      <td>COVID-19|</td>\n",
       "      <td>Municipality of Assiginack Family Health Team</td>\n",
       "      <td>Assiginack</td>\n",
       "      <td>NaN</td>\n",
       "      <td>Active, not recruiting</td>\n",
       "      <td>Interventional</td>\n",
       "      <td>Canada</td>\n",
       "      <td>April 20, 2020</td>\n",
       "    </tr>\n",
       "    <tr>\n",
       "      <th>3530</th>\n",
       "      <td>NCT04402853</td>\n",
       "      <td>Sars-CoV2|Tear|</td>\n",
       "      <td>ASST Sette Laghi</td>\n",
       "      <td>Varese</td>\n",
       "      <td>Probability Sample</td>\n",
       "      <td>Completed</td>\n",
       "      <td>Observational</td>\n",
       "      <td>Italy</td>\n",
       "      <td>February 1, 2020</td>\n",
       "    </tr>\n",
       "    <tr>\n",
       "      <th>3531</th>\n",
       "      <td>NCT04375748</td>\n",
       "      <td>Acute Myocarditis|</td>\n",
       "      <td>CHU de TOULOUSE</td>\n",
       "      <td>Toulouse</td>\n",
       "      <td>Non-Probability Sample</td>\n",
       "      <td>Recruiting</td>\n",
       "      <td>Observational</td>\n",
       "      <td>France</td>\n",
       "      <td>April 15, 2020</td>\n",
       "    </tr>\n",
       "  </tbody>\n",
       "</table>\n",
       "<p>3532 rows × 9 columns</p>\n",
       "</div>"
      ],
      "text/plain": [
       "           nct_id                                condition  \\\n",
       "0     NCT04357457  Covid 19|Hypoxemic Respiratory Failure|   \n",
       "1     NCT04568005                              Lymphedema|   \n",
       "2     NCT04351347                                   COVID|   \n",
       "3     NCT04389450                              COVID|ARDS|   \n",
       "4     NCT04298814        COVID-19|Endotracheal Intubation|   \n",
       "...           ...                                      ...   \n",
       "3527  NCT04486404                   Acute Stress Disorder|   \n",
       "3528  NCT04539795                                 Covid19|   \n",
       "3529  NCT04359264                                COVID-19|   \n",
       "3530  NCT04402853                          Sars-CoV2|Tear|   \n",
       "3531  NCT04375748                       Acute Myocarditis|   \n",
       "\n",
       "                                          facility_name        city  \\\n",
       "0                            Hospital Pitié-Salpêtrière       Paris   \n",
       "1     Fatih Sultan Mehmet Training and Research Hosp...    Istanbul   \n",
       "2                                      Tanta University       Tanta   \n",
       "3                       University of California Irvine      Irvine   \n",
       "4                                       Tongji Hospital       Wuhan   \n",
       "...                                                 ...         ...   \n",
       "3527           Pontificia Universidad Católica de Chile    Santiago   \n",
       "3528                             UAB Lung Health Center  Birmingham   \n",
       "3529      Municipality of Assiginack Family Health Team  Assiginack   \n",
       "3530                                   ASST Sette Laghi      Varese   \n",
       "3531                                    CHU de TOULOUSE    Toulouse   \n",
       "\n",
       "             sampling_method           overall_status  \\\n",
       "0                        NaN               Recruiting   \n",
       "1     Non-Probability Sample                Completed   \n",
       "2                        NaN               Recruiting   \n",
       "3                        NaN               Recruiting   \n",
       "4     Non-Probability Sample                Withdrawn   \n",
       "...                      ...                      ...   \n",
       "3527  Non-Probability Sample  Enrolling by invitation   \n",
       "3528                     NaN       Not yet recruiting   \n",
       "3529                     NaN   Active, not recruiting   \n",
       "3530      Probability Sample                Completed   \n",
       "3531  Non-Probability Sample               Recruiting   \n",
       "\n",
       "                            study_type        country         start_date  \n",
       "0                       Interventional         France  September 3, 2020  \n",
       "1     Observational [Patient Registry]         Turkey       June 1, 2020  \n",
       "2                       Interventional          Egypt      June 16, 2020  \n",
       "3                       Interventional  United States        August 2020  \n",
       "4                        Observational          China     August 7, 2020  \n",
       "...                                ...            ...                ...  \n",
       "3527                     Observational          Chile      April 1, 2020  \n",
       "3528                    Interventional  United States    October 1, 2020  \n",
       "3529                    Interventional         Canada     April 20, 2020  \n",
       "3530                     Observational          Italy   February 1, 2020  \n",
       "3531                     Observational         France     April 15, 2020  \n",
       "\n",
       "[3532 rows x 9 columns]"
      ]
     },
     "execution_count": 3,
     "metadata": {},
     "output_type": "execute_result"
    }
   ],
   "source": [
    "data"
   ]
  },
  {
   "cell_type": "code",
   "execution_count": 4,
   "metadata": {},
   "outputs": [
    {
     "data": {
      "text/plain": [
       "United States     796\n",
       "France            459\n",
       "Italy             143\n",
       "China             141\n",
       "United Kingdom    139\n",
       "                 ... \n",
       "Sudan               1\n",
       "Côte D'Ivoire       1\n",
       "Burkina Faso        1\n",
       "Rwanda              1\n",
       "Honduras            1\n",
       "Name: country, Length: 94, dtype: int64"
      ]
     },
     "execution_count": 4,
     "metadata": {},
     "output_type": "execute_result"
    }
   ],
   "source": [
    "c=data[\"country\"].value_counts()\n",
    "c"
   ]
  },
  {
   "cell_type": "code",
   "execution_count": 5,
   "metadata": {},
   "outputs": [],
   "source": [
    "t10=c.head(10)"
   ]
  },
  {
   "cell_type": "code",
   "execution_count": 6,
   "metadata": {},
   "outputs": [
    {
     "data": {
      "text/plain": [
       "Index(['United States', 'France', 'Italy', 'China', 'United Kingdom', 'Spain',\n",
       "       'Egypt', 'Turkey', 'Canada', 'Brazil'],\n",
       "      dtype='object')"
      ]
     },
     "execution_count": 6,
     "metadata": {},
     "output_type": "execute_result"
    }
   ],
   "source": [
    "t10k=t10.keys()\n",
    "t10k"
   ]
  },
  {
   "cell_type": "code",
   "execution_count": 7,
   "metadata": {},
   "outputs": [
    {
     "data": {
      "image/png": "[encoded data removed]",
      "text/plain": [
       "<Figure size 432x288 with 1 Axes>"
      ]
     },
     "metadata": {
      "needs_background": "light"
     },
     "output_type": "display_data"
    }
   ],
   "source": [
    "\n",
    "fig , ax = plt.subplots()\n",
    "\n",
    "ax.barh(t10k,t10)\n",
    "\n",
    "ax.set_title(\"Country Wise COVID Trials\")\n",
    "ax.set_xlabel('$Number$ $of$ $trials$')\n",
    "#ax.set_xlabel('$Months$')\n",
    "#ax.legend(loc='upper right')\n",
    "ax.legend(labels=[\"total Covid trials\"])\n",
    "\n",
    "# for x_, y_ in zip(x, y):\n",
    "    \n",
    "#     ax.text(x_ ,  y_ +10, round(y_, 1), horizontalalignment = 'center')\n",
    "\n",
    "\n",
    "fig.tight_layout()\n",
    "ax.invert_yaxis()\n",
    "plt.show()\n"
   ]
  },
  {
   "cell_type": "code",
   "execution_count": 8,
   "metadata": {},
   "outputs": [
    {
     "data": {
      "image/png": "[encoded data removed]",
      "text/plain": [
       "<Figure size 432x288 with 1 Axes>"
      ]
     },
     "metadata": {
      "needs_background": "light"
     },
     "output_type": "display_data"
    }
   ],
   "source": [
    "ax = data['country'].value_counts().head(10).plot(kind='barh', \n",
    "                                        color=\"orange\", fontsize=13);\n",
    "ax.set_alpha(0.8)\n",
    "ax.set_title(\"Country Wise COVID19 Trials \", fontsize=18)\n",
    "ax.set_xlabel(\"Number of trials\", fontsize=18);\n",
    "#ax.set_xticks()\n",
    "\n",
    "# create a list to collect the plt.patches data\n",
    "totals = []\n",
    "\n",
    "# find the values and append to list\n",
    "for i in ax.patches:\n",
    "    totals.append(i.get_width())\n",
    "\n",
    "# set individual bar lables using above list\n",
    "total = sum(totals)\n",
    "\n",
    "# set individual bar lables using above list\n",
    "for i in ax.patches:\n",
    "    # get_width pulls left or right; get_y pushes up or down\n",
    "    ax.text(i.get_width()+.3, i.get_y()+.38, \\\n",
    "            str(round((i.get_width()/total)*100, 2))+'%', fontsize=10,\n",
    "color='dimgrey')\n",
    "\n",
    "# invert for largest on top \n",
    "ax.invert_yaxis()"
   ]
  },
  {
   "cell_type": "code",
   "execution_count": null,
   "metadata": {},
   "outputs": [],
   "source": []
  },
  {
   "cell_type": "code",
   "execution_count": null,
   "metadata": {},
   "outputs": [],
   "source": []
  },
  {
   "cell_type": "code",
   "execution_count": 9,
   "metadata": {},
   "outputs": [],
   "source": [
    "studytype = data[\"study_type\"].unique()"
   ]
  },
  {
   "cell_type": "code",
   "execution_count": 10,
   "metadata": {},
   "outputs": [
    {
     "data": {
      "text/plain": [
       "array(['Interventional', 'Observational [Patient Registry]',\n",
       "       'Observational', 'Expanded Access'], dtype=object)"
      ]
     },
     "execution_count": 10,
     "metadata": {},
     "output_type": "execute_result"
    }
   ],
   "source": [
    "studytype"
   ]
  },
  {
   "cell_type": "code",
   "execution_count": 11,
   "metadata": {},
   "outputs": [],
   "source": [
    "counts = data[\"study_type\"].value_counts()"
   ]
  },
  {
   "cell_type": "code",
   "execution_count": null,
   "metadata": {},
   "outputs": [],
   "source": []
  },
  {
   "cell_type": "code",
   "execution_count": 12,
   "metadata": {},
   "outputs": [
    {
     "data": {
      "text/plain": [
       "Interventional                      1998\n",
       "Observational                       1306\n",
       "Observational [Patient Registry]     204\n",
       "Expanded Access                       24\n",
       "Name: study_type, dtype: int64"
      ]
     },
     "execution_count": 12,
     "metadata": {},
     "output_type": "execute_result"
    }
   ],
   "source": [
    "counts"
   ]
  },
  {
   "cell_type": "code",
   "execution_count": 13,
   "metadata": {},
   "outputs": [
    {
     "data": {
      "image/png": "[encoded data removed]",
      "text/plain": [
       "<Figure size 432x288 with 1 Axes>"
      ]
     },
     "metadata": {
      "needs_background": "light"
     },
     "output_type": "display_data"
    }
   ],
   "source": [
    "fig , ax = plt.subplots()\n",
    "\n",
    "ax.barh(counts.index,counts)\n",
    "ax.set_title(\"Study Types for COVID\")\n",
    "ax.set_xlabel('$Number$ $of$ $Studies$')\n",
    "ax.invert_yaxis()\n",
    "plt.show()"
   ]
  },
  {
   "cell_type": "code",
   "execution_count": 14,
   "metadata": {},
   "outputs": [
    {
     "data": {
      "image/png": "[encoded data removed]",
      "text/plain": [
       "<Figure size 432x288 with 1 Axes>"
      ]
     },
     "metadata": {
      "needs_background": "light"
     },
     "output_type": "display_data"
    }
   ],
   "source": [
    "\n",
    "\n",
    "\n",
    "ax = data['study_type'].value_counts().head(10).plot(kind='barh', \n",
    "                                        color=\"purple\", fontsize=13);\n",
    "ax.set_alpha(0.8)\n",
    "ax.set_title(\"Stydy type  for COVID19 Trials \", fontsize=18)\n",
    "ax.set_xlabel(\"Number of trials\", fontsize=18);\n",
    "#ax.set_xticks()\n",
    "\n",
    "# create a list to collect the plt.patches data\n",
    "totals = []\n",
    "\n",
    "# find the values and append to list\n",
    "for i in ax.patches:\n",
    "    totals.append(i.get_width())\n",
    "\n",
    "# set individual bar lables using above list\n",
    "total = sum(totals)\n",
    "\n",
    "# set individual bar lables using above list\n",
    "for i in ax.patches:\n",
    "    # get_width pulls left or right; get_y pushes up or down\n",
    "    ax.text(i.get_width()+.3, i.get_y()+.38, \\\n",
    "            str(round((i.get_width()/total)*100, 2))+'%', fontsize=10,\n",
    "color='dimgrey')\n",
    "\n",
    "# invert for largest on top \n",
    "ax.invert_yaxis()"
   ]
  },
  {
   "cell_type": "code",
   "execution_count": 15,
   "metadata": {},
   "outputs": [
    {
     "name": "stdout",
     "output_type": "stream",
     "text": [
      "United States     796\n",
      "France            459\n",
      "Italy             143\n",
      "China             141\n",
      "United Kingdom    139\n",
      "                 ... \n",
      "Sudan               1\n",
      "Côte D'Ivoire       1\n",
      "Burkina Faso        1\n",
      "Rwanda              1\n",
      "Honduras            1\n",
      "Name: country, Length: 94, dtype: int64\n"
     ]
    }
   ],
   "source": [
    "country = data[\"country\"].value_counts()\n",
    "country.index\n",
    "print(country)"
   ]
  },
  {
   "cell_type": "code",
   "execution_count": 16,
   "metadata": {},
   "outputs": [
    {
     "data": {
      "image/png": "[encoded data removed]",
      "text/plain": [
       "<Figure size 1080x504 with 1 Axes>"
      ]
     },
     "metadata": {},
     "output_type": "display_data"
    }
   ],
   "source": [
    "labels = [\"Interventional\",\"Observational\" ,\"\"\"Ob[PA]\"\"\",\"EA\"]\n",
    "sizes = counts\n",
    "explode = (0, 0.1, 0, 0)  # only \"explode\" the 2nd slice (i.e. 'Hogs')\n",
    "\n",
    "fig1, ax1 = plt.subplots(figsize=(15,7))\n",
    "ax1.pie(sizes, labels=labels, autopct='%1.1f%%',\n",
    "        shadow=True, startangle=90)\n",
    "ax1.axis('equal')  # Equal aspect ratio ensures that pie is drawn as a circle.\n",
    "ax1.set_title(\"Study Types\" , loc='left')\n",
    "ax1.legend(loc='upper right',labels=counts.index)\n",
    "plt.show()"
   ]
  },
  {
   "cell_type": "code",
   "execution_count": 17,
   "metadata": {},
   "outputs": [
    {
     "data": {
      "image/png": "[encoded data removed]",
      "text/plain": [
       "<Figure size 432x288 with 1 Axes>"
      ]
     },
     "metadata": {},
     "output_type": "display_data"
    }
   ],
   "source": [
    "names=counts.index\n",
    "size=counts\n",
    " \n",
    "# Create a circle for the center of the plot\n",
    "my_circle=plt.Circle( (0,0), 0.7, color='white')\n",
    "plt.pie(size, labels=names, colors=['red','green','blue','skyblue'])\n",
    "p=plt.gcf()\n",
    "p.gca().add_artist(my_circle)\n",
    "plt.title(\"Study Types\" , loc='right')\n",
    "plt.show()"
   ]
  },
  {
   "cell_type": "code",
   "execution_count": 18,
   "metadata": {},
   "outputs": [
    {
     "data": {
      "text/plain": [
       "(3532, 9)"
      ]
     },
     "execution_count": 18,
     "metadata": {},
     "output_type": "execute_result"
    }
   ],
   "source": [
    "data[\"start_date\"] = pd.to_datetime(data[\"start_date\"])\n",
    "data.shape"
   ]
  },
  {
   "cell_type": "code",
   "execution_count": 19,
   "metadata": {},
   "outputs": [],
   "source": [
    "data2=data[(data[\"start_date\"] > \"2020-01-01\") & (data[\"start_date\"] < '2020-12-31')]"
   ]
  },
  {
   "cell_type": "code",
   "execution_count": 20,
   "metadata": {},
   "outputs": [
    {
     "name": "stderr",
     "output_type": "stream",
     "text": [
      "/home/ayaz/Desktop/Applied Informatics/numpypandas/npenv/lib/python3.7/site-packages/ipykernel_launcher.py:1: SettingWithCopyWarning: \n",
      "A value is trying to be set on a copy of a slice from a DataFrame.\n",
      "Try using .loc[row_indexer,col_indexer] = value instead\n",
      "\n",
      "See the caveats in the documentation: https://pandas.pydata.org/pandas-docs/stable/user_guide/indexing.html#returning-a-view-versus-a-copy\n",
      "  \"\"\"Entry point for launching an IPython kernel.\n"
     ]
    }
   ],
   "source": [
    "data2['month'] = pd.DatetimeIndex(data2['start_date']).month"
   ]
  },
  {
   "cell_type": "code",
   "execution_count": 21,
   "metadata": {},
   "outputs": [
    {
     "data": {
      "text/plain": [
       "(3445, 10)"
      ]
     },
     "execution_count": 21,
     "metadata": {},
     "output_type": "execute_result"
    }
   ],
   "source": [
    "data2.shape"
   ]
  },
  {
   "cell_type": "code",
   "execution_count": 22,
   "metadata": {},
   "outputs": [],
   "source": [
    "df1 =  data2.loc[data2[\"study_type\"]==\"Interventional\",['month','start_date']]"
   ]
  },
  {
   "cell_type": "code",
   "execution_count": 23,
   "metadata": {},
   "outputs": [],
   "source": [
    "df2 = data2.loc[data2[\"study_type\"]==\"Observational\",['month','start_date']]"
   ]
  },
  {
   "cell_type": "code",
   "execution_count": 24,
   "metadata": {},
   "outputs": [],
   "source": [
    "df3 = data2.loc[data2[\"study_type\"]==\"Observational [Patient Registry]\",['month','start_date']]"
   ]
  },
  {
   "cell_type": "code",
   "execution_count": 25,
   "metadata": {},
   "outputs": [],
   "source": [
    "df4 = data2.loc[data2[\"study_type\"]==\"Expanded Access\",['month','start_date']]"
   ]
  },
  {
   "cell_type": "code",
   "execution_count": 26,
   "metadata": {},
   "outputs": [
    {
     "data": {
      "text/plain": [
       "1      21\n",
       "2      78\n",
       "3     355\n",
       "4     808\n",
       "5     618\n",
       "6     466\n",
       "7     353\n",
       "8     251\n",
       "9     305\n",
       "10    128\n",
       "11     38\n",
       "12     24\n",
       "Name: month, dtype: int64"
      ]
     },
     "execution_count": 26,
     "metadata": {},
     "output_type": "execute_result"
    }
   ],
   "source": [
    "trial_count=data2[\"month\"][( data2[\"start_date\"] <'2020-12-31')\n",
    "                           & ( data2[\"start_date\"] > '2020-01-01' )\n",
    "                          ].value_counts()\n",
    "t2=trial_count.sort_index()\n",
    "t2"
   ]
  },
  {
   "cell_type": "code",
   "execution_count": 27,
   "metadata": {},
   "outputs": [
    {
     "data": {
      "text/plain": [
       "1      10\n",
       "2      41\n",
       "3     112\n",
       "4     427\n",
       "5     345\n",
       "6     257\n",
       "7     231\n",
       "8     185\n",
       "9     223\n",
       "10     92\n",
       "11     31\n",
       "12     21\n",
       "Name: month, dtype: int64"
      ]
     },
     "execution_count": 27,
     "metadata": {},
     "output_type": "execute_result"
    }
   ],
   "source": [
    "tc1 = df1['month'][( df1[\"start_date\"] <'2020-12-31') & ( df1[\"start_date\"] > '2020-01-01' )].value_counts()\n",
    "tc1=tc1.sort_index()\n",
    "tc1"
   ]
  },
  {
   "cell_type": "code",
   "execution_count": 28,
   "metadata": {},
   "outputs": [
    {
     "data": {
      "text/plain": [
       "1      11\n",
       "2      37\n",
       "3     196\n",
       "4     333\n",
       "5     237\n",
       "6     183\n",
       "7     104\n",
       "8      57\n",
       "9      74\n",
       "10     30\n",
       "11      7\n",
       "12      3\n",
       "Name: month, dtype: int64"
      ]
     },
     "execution_count": 28,
     "metadata": {},
     "output_type": "execute_result"
    }
   ],
   "source": [
    "tc2 = df2['month'][( df2[\"start_date\"] <'2020-12-31') & ( df2[\"start_date\"] > '2020-01-01' )].value_counts()\n",
    "tc2=tc2.sort_index()\n",
    "tc2"
   ]
  },
  {
   "cell_type": "code",
   "execution_count": 29,
   "metadata": {},
   "outputs": [
    {
     "data": {
      "text/plain": [
       "1      0\n",
       "2      0\n",
       "3     47\n",
       "4     48\n",
       "5     36\n",
       "6     26\n",
       "7     18\n",
       "8      9\n",
       "9      8\n",
       "10     6\n",
       "11     0\n",
       "12     0\n",
       "dtype: int64"
      ]
     },
     "execution_count": 29,
     "metadata": {},
     "output_type": "execute_result"
    }
   ],
   "source": [
    "tc3 = df3['month'][( df3[\"start_date\"] <'2020-12-31') & ( df3[\"start_date\"] > '2020-01-01' )].value_counts()\n",
    "s3 = pd.Series([0, 0, 0,0], index=[1, 2, 11,12])\n",
    "tc3=tc3.append(s3)\n",
    "tc3=tc3.sort_index()\n",
    "tc3"
   ]
  },
  {
   "cell_type": "code",
   "execution_count": 30,
   "metadata": {},
   "outputs": [],
   "source": [
    "months=['Jan', 'Feb', 'Mar', 'Apr', 'May', 'Jun', 'Jul', 'Aug', 'Sep', 'Oct', 'Nov','Dec']"
   ]
  },
  {
   "cell_type": "code",
   "execution_count": null,
   "metadata": {},
   "outputs": [],
   "source": []
  },
  {
   "cell_type": "code",
   "execution_count": 31,
   "metadata": {},
   "outputs": [
    {
     "data": {
      "text/plain": [
       "pandas.core.series.Series"
      ]
     },
     "execution_count": 31,
     "metadata": {},
     "output_type": "execute_result"
    }
   ],
   "source": [
    "width = 0.35\n",
    "b3 = pd.Series(np.add(tc1,tc2))\n",
    "type(b3)"
   ]
  },
  {
   "cell_type": "code",
   "execution_count": 32,
   "metadata": {},
   "outputs": [
    {
     "data": {
      "image/png": "[encoded data removed]",
      "text/plain": [
       "<Figure size 432x288 with 1 Axes>"
      ]
     },
     "metadata": {
      "needs_background": "light"
     },
     "output_type": "display_data"
    }
   ],
   "source": [
    "x=t2.index-1\n",
    "y=t2\n",
    "p1 = plt.bar(months, tc1, width,label=\"Interventional\")\n",
    "\n",
    "p2 = plt.bar(months, tc2, width,\n",
    "             bottom=tc1,label=\"Observational\")\n",
    "\n",
    "p3 = plt.bar(months,tc3,width, bottom=b3,label=\"Observational[Patient Registry]\")\n",
    "\n",
    "plt.title(\"Month Wise Trials for the year 2020\")\n",
    "plt.ylabel('$Number$ $of$ $trials$')\n",
    "plt.yticks(np.arange(0,1200,200))\n",
    "plt.legend((p1[0], p2[0],p3[0]), ('Interventional', 'Observational','Observational[Patient Registry]'))\n",
    "\n",
    "for x_, y_ in zip(x, y):    \n",
    "     # add some text\n",
    "    plt.text(x_ ,  y_+10, round(y_, 1), horizontalalignment = 'center')\n",
    "\n",
    "plt.show()"
   ]
  },
  {
   "cell_type": "code",
   "execution_count": null,
   "metadata": {},
   "outputs": [],
   "source": []
  },
  {
   "cell_type": "code",
   "execution_count": null,
   "metadata": {},
   "outputs": [],
   "source": []
  },
  {
   "cell_type": "code",
   "execution_count": null,
   "metadata": {},
   "outputs": [],
   "source": []
  },
  {
   "cell_type": "code",
   "execution_count": null,
   "metadata": {},
   "outputs": [],
   "source": []
  },
  {
   "cell_type": "code",
   "execution_count": null,
   "metadata": {},
   "outputs": [],
   "source": []
  },
  {
   "cell_type": "code",
   "execution_count": 161,
   "metadata": {},
   "outputs": [
    {
     "data": {
      "text/plain": [
       "Recruiting                 1839\n",
       "Not yet recruiting          841\n",
       "Completed                   393\n",
       "Active, not recruiting      233\n",
       "Enrolling by invitation     115\n",
       "Withdrawn                    48\n",
       "Terminated                   20\n",
       "Suspended                    19\n",
       "Available                    19\n",
       "No longer available           4\n",
       "Approved for marketing        1\n",
       "Name: overall_status, dtype: int64"
      ]
     },
     "execution_count": 161,
     "metadata": {},
     "output_type": "execute_result"
    }
   ],
   "source": [
    "data[\"overall_status\"].value_counts()"
   ]
  },
  {
   "cell_type": "code",
   "execution_count": 141,
   "metadata": {},
   "outputs": [
    {
     "data": {
      "text/plain": [
       "0    1804\n",
       "dtype: int64"
      ]
     },
     "execution_count": 141,
     "metadata": {},
     "output_type": "execute_result"
    }
   ],
   "source": [
    "d1 =  pd.Series(data2.loc[data2[\"overall_status\"]==\"Recruiting\",['month','start_date']]\n",
    "                .value_counts().sum() , index=[0])\n",
    "d1"
   ]
  },
  {
   "cell_type": "code",
   "execution_count": 142,
   "metadata": {},
   "outputs": [
    {
     "data": {
      "text/plain": [
       "1    834\n",
       "dtype: int64"
      ]
     },
     "execution_count": 142,
     "metadata": {},
     "output_type": "execute_result"
    }
   ],
   "source": [
    "d2 =  pd.Series(data2.loc[data2[\"overall_status\"]==\"Not yet recruiting\",['month','start_date']]\n",
    "                .value_counts().sum(),index=[1])\n",
    "d2"
   ]
  },
  {
   "cell_type": "code",
   "execution_count": 143,
   "metadata": {},
   "outputs": [
    {
     "data": {
      "text/plain": [
       "2    384\n",
       "dtype: int64"
      ]
     },
     "execution_count": 143,
     "metadata": {},
     "output_type": "execute_result"
    }
   ],
   "source": [
    "d3 =  pd.Series(data2.loc[data2[\"overall_status\"]==\"Completed\",['month','start_date']]\n",
    "                .value_counts().sum(),index=[2])\n",
    "d3"
   ]
  },
  {
   "cell_type": "code",
   "execution_count": 144,
   "metadata": {},
   "outputs": [
    {
     "data": {
      "text/plain": [
       "3    226\n",
       "dtype: int64"
      ]
     },
     "execution_count": 144,
     "metadata": {},
     "output_type": "execute_result"
    }
   ],
   "source": [
    "d4 =  pd.Series(data2.loc[data2[\"overall_status\"]==\"Active, not recruiting\",['month','start_date']]\n",
    "                .value_counts().sum(),index=[3])\n",
    "d4"
   ]
  },
  {
   "cell_type": "code",
   "execution_count": 145,
   "metadata": {},
   "outputs": [
    {
     "data": {
      "text/plain": [
       "4    111\n",
       "dtype: int64"
      ]
     },
     "execution_count": 145,
     "metadata": {},
     "output_type": "execute_result"
    }
   ],
   "source": [
    "d5 =  pd.Series(data2.loc[data2[\"overall_status\"]==\"Enrolling by invitation\",['month','start_date']]\n",
    "                .value_counts().sum(),index=[4])\n",
    "d5"
   ]
  },
  {
   "cell_type": "code",
   "execution_count": 146,
   "metadata": {},
   "outputs": [
    {
     "data": {
      "text/plain": [
       "5    47\n",
       "dtype: int64"
      ]
     },
     "execution_count": 146,
     "metadata": {},
     "output_type": "execute_result"
    }
   ],
   "source": [
    "d6 =  pd.Series(data2.loc[data2[\"overall_status\"]==\"Withdrawn\",['month','start_date']]\n",
    "                .value_counts().sum(),index=[5])\n",
    "d6"
   ]
  },
  {
   "cell_type": "code",
   "execution_count": 147,
   "metadata": {},
   "outputs": [
    {
     "data": {
      "text/plain": [
       "6    20\n",
       "dtype: int64"
      ]
     },
     "execution_count": 147,
     "metadata": {},
     "output_type": "execute_result"
    }
   ],
   "source": [
    "d7 =  pd.Series(data2.loc[data2[\"overall_status\"]==\"Terminated\",['month','start_date']]\n",
    "                .value_counts().sum(),index=[6])\n",
    "d7"
   ]
  },
  {
   "cell_type": "code",
   "execution_count": 148,
   "metadata": {},
   "outputs": [
    {
     "data": {
      "text/plain": [
       "7    19\n",
       "dtype: int64"
      ]
     },
     "execution_count": 148,
     "metadata": {},
     "output_type": "execute_result"
    }
   ],
   "source": [
    "d8 = pd.Series(data2.loc[data2[\"overall_status\"]==\"Suspended\",['month','start_date']]\n",
    "               .value_counts().sum(),index=[7])\n",
    "d8"
   ]
  },
  {
   "cell_type": "code",
   "execution_count": 149,
   "metadata": {},
   "outputs": [],
   "source": [
    "d9 = pd.Series(data2.loc[data2[\"overall_status\"]==\"Available\",['month','start_date']]\n",
    "               .value_counts().sum(),index=[8])"
   ]
  },
  {
   "cell_type": "code",
   "execution_count": 150,
   "metadata": {},
   "outputs": [],
   "source": [
    "d10 = pd.Series(data2.loc[data2[\"overall_status\"]==\"No longer available\",['month','start_date']]\n",
    "                .value_counts().sum(),index=[9])"
   ]
  },
  {
   "cell_type": "code",
   "execution_count": 151,
   "metadata": {},
   "outputs": [],
   "source": [
    "d11 = pd.Series(data2.loc[data2[\"overall_status\"]==\"Approved for marketing\",['month','start_date']]\n",
    "                .value_counts().sum(),index=[10])"
   ]
  },
  {
   "cell_type": "code",
   "execution_count": 152,
   "metadata": {},
   "outputs": [],
   "source": [
    "d1=d1.append(d2)\n",
    "d1=d1.append(d3)\n",
    "d1=d1.append(d4)\n",
    "d1=d1.append(d6)\n",
    "d1=d1.append(d7)\n",
    "d1=d1.append(d8)\n",
    "d1=d1.append(d9)\n",
    "d1=d1.append(d10)\n",
    "d1=d1.append(d11)"
   ]
  },
  {
   "cell_type": "code",
   "execution_count": 153,
   "metadata": {},
   "outputs": [
    {
     "data": {
      "text/plain": [
       "0     1804\n",
       "1      834\n",
       "2      384\n",
       "3      226\n",
       "5       47\n",
       "6       20\n",
       "7       19\n",
       "8        0\n",
       "9        0\n",
       "10       0\n",
       "dtype: int64"
      ]
     },
     "execution_count": 153,
     "metadata": {},
     "output_type": "execute_result"
    }
   ],
   "source": [
    "d1"
   ]
  },
  {
   "cell_type": "code",
   "execution_count": 154,
   "metadata": {},
   "outputs": [
    {
     "data": {
      "text/plain": [
       "Int64Index([0, 1, 2, 3, 5, 6, 7, 8, 9, 10], dtype='int64')"
      ]
     },
     "execution_count": 154,
     "metadata": {},
     "output_type": "execute_result"
    }
   ],
   "source": [
    "d1.index"
   ]
  },
  {
   "cell_type": "code",
   "execution_count": 162,
   "metadata": {},
   "outputs": [],
   "source": [
    "labels=['Recruiting','Not yet recruiting','Completed','Active','not recruiting','Enrolling by invitation',\n",
    "'Withdrawn','Terminated','Suspended','Available','No longer available','Approved for marketing']"
   ]
  },
  {
   "cell_type": "code",
   "execution_count": 179,
   "metadata": {},
   "outputs": [
    {
     "data": {
      "image/png": "[encoded data removed]",
      "text/plain": [
       "<Figure size 432x288 with 1 Axes>"
      ]
     },
     "metadata": {
      "needs_background": "light"
     },
     "output_type": "display_data"
    }
   ],
   "source": [
    "x=d1.index\n",
    "y=d1\n",
    "fig , ax = plt.subplots()\n",
    "\n",
    "ax.barh(d1.index,d1)\n",
    "\n",
    "ax.set_title(\"Overall Status For COVID TRIALS\")\n",
    "#ax.set_ylabel('$Number$ $of$ $trials$')\n",
    "#ax.set_ylabel('$Months$')\n",
    "ax.set_yticks(np.arange(0,12,1))\n",
    "ax.set_yticklabels(labels)\n",
    "#ax.legend(loc='upper right')\n",
    "#ax.legend(labels=[\"total Covid trials\"])\n",
    "\n",
    "\n",
    "\n",
    "#autolabel(rects1,ax) \n",
    "\n",
    "fig.tight_layout()\n",
    "#ax.invert_yaxis()\n",
    "\n",
    "plt.show()"
   ]
  },
  {
   "cell_type": "code",
   "execution_count": null,
   "metadata": {},
   "outputs": [],
   "source": []
  },
  {
   "cell_type": "code",
   "execution_count": null,
   "metadata": {},
   "outputs": [],
   "source": []
  }
 ],
 "metadata": {
  "kernelspec": {
   "display_name": "Python 3",
   "language": "python",
   "name": "python3"
  },
  "language_info": {
   "codemirror_mode": {
    "name": "ipython",
    "version": 3
   },
   "file_extension": ".py",
   "mimetype": "text/x-python",
   "name": "python",
   "nbconvert_exporter": "python",
   "pygments_lexer": "ipython3",
   "version": "3.7.3"
  }
 },
 "nbformat": 4,
 "nbformat_minor": 4
}
