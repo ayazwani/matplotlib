{
 "cells": [
  {
   "cell_type": "code",
   "execution_count": 1,
   "metadata": {},
   "outputs": [],
   "source": [
    "from matplotlib import pyplot as plt\n",
    "import pandas as pd\n",
    "import numpy as np"
   ]
  },
  {
   "cell_type": "code",
   "execution_count": 2,
   "metadata": {},
   "outputs": [],
   "source": [
    "data = pd.read_csv(\"/home/ayaz/Desktop/Applied Informatics/flask/classcsv.csv\")"
   ]
  },
  {
   "cell_type": "code",
   "execution_count": 3,
   "metadata": {},
   "outputs": [
    {
     "data": {
      "text/html": [
       "<div>\n",
       "<style scoped>\n",
       "    .dataframe tbody tr th:only-of-type {\n",
       "        vertical-align: middle;\n",
       "    }\n",
       "\n",
       "    .dataframe tbody tr th {\n",
       "        vertical-align: top;\n",
       "    }\n",
       "\n",
       "    .dataframe thead th {\n",
       "        text-align: right;\n",
       "    }\n",
       "</style>\n",
       "<table border=\"1\" class=\"dataframe\">\n",
       "  <thead>\n",
       "    <tr style=\"text-align: right;\">\n",
       "      <th></th>\n",
       "      <th>nct_id</th>\n",
       "      <th>condition</th>\n",
       "      <th>facility_name</th>\n",
       "      <th>city</th>\n",
       "      <th>sampling_method</th>\n",
       "      <th>overall_status</th>\n",
       "      <th>study_type</th>\n",
       "    </tr>\n",
       "  </thead>\n",
       "  <tbody>\n",
       "    <tr>\n",
       "      <th>0</th>\n",
       "      <td>NCT04357457</td>\n",
       "      <td>Covid 19|Hypoxemic Respiratory Failure|</td>\n",
       "      <td>Hospital Pitié-Salpêtrière</td>\n",
       "      <td>Paris</td>\n",
       "      <td>NaN</td>\n",
       "      <td>Recruiting</td>\n",
       "      <td>Interventional</td>\n",
       "    </tr>\n",
       "    <tr>\n",
       "      <th>1</th>\n",
       "      <td>NCT04568005</td>\n",
       "      <td>Lymphedema|</td>\n",
       "      <td>Fatih Sultan Mehmet Training and Research Hosp...</td>\n",
       "      <td>Istanbul</td>\n",
       "      <td>Non-Probability Sample</td>\n",
       "      <td>Completed</td>\n",
       "      <td>Observational [Patient Registry]</td>\n",
       "    </tr>\n",
       "    <tr>\n",
       "      <th>2</th>\n",
       "      <td>NCT04351347</td>\n",
       "      <td>COVID|</td>\n",
       "      <td>Tanta University</td>\n",
       "      <td>Tanta</td>\n",
       "      <td>NaN</td>\n",
       "      <td>Recruiting</td>\n",
       "      <td>Interventional</td>\n",
       "    </tr>\n",
       "    <tr>\n",
       "      <th>3</th>\n",
       "      <td>NCT04389450</td>\n",
       "      <td>COVID|ARDS|</td>\n",
       "      <td>University of California Irvine</td>\n",
       "      <td>Irvine</td>\n",
       "      <td>NaN</td>\n",
       "      <td>Recruiting</td>\n",
       "      <td>Interventional</td>\n",
       "    </tr>\n",
       "    <tr>\n",
       "      <th>4</th>\n",
       "      <td>NCT04298814</td>\n",
       "      <td>COVID-19|Endotracheal Intubation|</td>\n",
       "      <td>Tongji Hospital</td>\n",
       "      <td>Wuhan</td>\n",
       "      <td>Non-Probability Sample</td>\n",
       "      <td>Withdrawn</td>\n",
       "      <td>Observational</td>\n",
       "    </tr>\n",
       "    <tr>\n",
       "      <th>...</th>\n",
       "      <td>...</td>\n",
       "      <td>...</td>\n",
       "      <td>...</td>\n",
       "      <td>...</td>\n",
       "      <td>...</td>\n",
       "      <td>...</td>\n",
       "      <td>...</td>\n",
       "    </tr>\n",
       "    <tr>\n",
       "      <th>3527</th>\n",
       "      <td>NCT04486404</td>\n",
       "      <td>Acute Stress Disorder|</td>\n",
       "      <td>Pontificia Universidad Católica de Chile</td>\n",
       "      <td>Santiago</td>\n",
       "      <td>Non-Probability Sample</td>\n",
       "      <td>Enrolling by invitation</td>\n",
       "      <td>Observational</td>\n",
       "    </tr>\n",
       "    <tr>\n",
       "      <th>3528</th>\n",
       "      <td>NCT04539795</td>\n",
       "      <td>Covid19|</td>\n",
       "      <td>UAB Lung Health Center</td>\n",
       "      <td>Birmingham</td>\n",
       "      <td>NaN</td>\n",
       "      <td>Not yet recruiting</td>\n",
       "      <td>Interventional</td>\n",
       "    </tr>\n",
       "    <tr>\n",
       "      <th>3529</th>\n",
       "      <td>NCT04359264</td>\n",
       "      <td>COVID-19|</td>\n",
       "      <td>Municipality of Assiginack Family Health Team</td>\n",
       "      <td>Assiginack</td>\n",
       "      <td>NaN</td>\n",
       "      <td>Active, not recruiting</td>\n",
       "      <td>Interventional</td>\n",
       "    </tr>\n",
       "    <tr>\n",
       "      <th>3530</th>\n",
       "      <td>NCT04402853</td>\n",
       "      <td>Sars-CoV2|Tear|</td>\n",
       "      <td>ASST Sette Laghi</td>\n",
       "      <td>Varese</td>\n",
       "      <td>Probability Sample</td>\n",
       "      <td>Completed</td>\n",
       "      <td>Observational</td>\n",
       "    </tr>\n",
       "    <tr>\n",
       "      <th>3531</th>\n",
       "      <td>NCT04375748</td>\n",
       "      <td>Acute Myocarditis|</td>\n",
       "      <td>CHU de TOULOUSE</td>\n",
       "      <td>Toulouse</td>\n",
       "      <td>Non-Probability Sample</td>\n",
       "      <td>Recruiting</td>\n",
       "      <td>Observational</td>\n",
       "    </tr>\n",
       "  </tbody>\n",
       "</table>\n",
       "<p>3532 rows × 7 columns</p>\n",
       "</div>"
      ],
      "text/plain": [
       "           nct_id                                condition  \\\n",
       "0     NCT04357457  Covid 19|Hypoxemic Respiratory Failure|   \n",
       "1     NCT04568005                              Lymphedema|   \n",
       "2     NCT04351347                                   COVID|   \n",
       "3     NCT04389450                              COVID|ARDS|   \n",
       "4     NCT04298814        COVID-19|Endotracheal Intubation|   \n",
       "...           ...                                      ...   \n",
       "3527  NCT04486404                   Acute Stress Disorder|   \n",
       "3528  NCT04539795                                 Covid19|   \n",
       "3529  NCT04359264                                COVID-19|   \n",
       "3530  NCT04402853                          Sars-CoV2|Tear|   \n",
       "3531  NCT04375748                       Acute Myocarditis|   \n",
       "\n",
       "                                          facility_name        city  \\\n",
       "0                            Hospital Pitié-Salpêtrière       Paris   \n",
       "1     Fatih Sultan Mehmet Training and Research Hosp...    Istanbul   \n",
       "2                                      Tanta University       Tanta   \n",
       "3                       University of California Irvine      Irvine   \n",
       "4                                       Tongji Hospital       Wuhan   \n",
       "...                                                 ...         ...   \n",
       "3527           Pontificia Universidad Católica de Chile    Santiago   \n",
       "3528                             UAB Lung Health Center  Birmingham   \n",
       "3529      Municipality of Assiginack Family Health Team  Assiginack   \n",
       "3530                                   ASST Sette Laghi      Varese   \n",
       "3531                                    CHU de TOULOUSE    Toulouse   \n",
       "\n",
       "             sampling_method           overall_status  \\\n",
       "0                        NaN               Recruiting   \n",
       "1     Non-Probability Sample                Completed   \n",
       "2                        NaN               Recruiting   \n",
       "3                        NaN               Recruiting   \n",
       "4     Non-Probability Sample                Withdrawn   \n",
       "...                      ...                      ...   \n",
       "3527  Non-Probability Sample  Enrolling by invitation   \n",
       "3528                     NaN       Not yet recruiting   \n",
       "3529                     NaN   Active, not recruiting   \n",
       "3530      Probability Sample                Completed   \n",
       "3531  Non-Probability Sample               Recruiting   \n",
       "\n",
       "                            study_type  \n",
       "0                       Interventional  \n",
       "1     Observational [Patient Registry]  \n",
       "2                       Interventional  \n",
       "3                       Interventional  \n",
       "4                        Observational  \n",
       "...                                ...  \n",
       "3527                     Observational  \n",
       "3528                    Interventional  \n",
       "3529                    Interventional  \n",
       "3530                     Observational  \n",
       "3531                     Observational  \n",
       "\n",
       "[3532 rows x 7 columns]"
      ]
     },
     "execution_count": 3,
     "metadata": {},
     "output_type": "execute_result"
    }
   ],
   "source": [
    "data"
   ]
  },
  {
   "cell_type": "code",
   "execution_count": 13,
   "metadata": {},
   "outputs": [],
   "source": [
    "studytype = data[\"study_type\"].unique()"
   ]
  },
  {
   "cell_type": "code",
   "execution_count": 9,
   "metadata": {},
   "outputs": [
    {
     "data": {
      "text/plain": [
       "numpy.ndarray"
      ]
     },
     "execution_count": 9,
     "metadata": {},
     "output_type": "execute_result"
    }
   ],
   "source": [
    "type(studytype)"
   ]
  },
  {
   "cell_type": "code",
   "execution_count": 14,
   "metadata": {},
   "outputs": [],
   "source": [
    "counts = data[\"study_type\"].value_counts()"
   ]
  },
  {
   "cell_type": "code",
   "execution_count": 21,
   "metadata": {},
   "outputs": [
    {
     "data": {
      "text/plain": [
       "Interventional                      1998\n",
       "Observational                       1306\n",
       "Observational [Patient Registry]     204\n",
       "Expanded Access                       24\n",
       "Name: study_type, dtype: int64"
      ]
     },
     "execution_count": 21,
     "metadata": {},
     "output_type": "execute_result"
    }
   ],
   "source": [
    "counts"
   ]
  },
  {
   "cell_type": "code",
   "execution_count": 39,
   "metadata": {},
   "outputs": [
    {
     "data": {
      "image/png": "[encoded data removed]",
      "text/plain": [
       "<Figure size 432x288 with 1 Axes>"
      ]
     },
     "metadata": {
      "needs_background": "light"
     },
     "output_type": "display_data"
    }
   ],
   "source": [
    "fig , ax = plt.subplots()\n",
    "\n",
    "ax.barh(counts.index,counts)\n",
    "ax.set_title(\"Study Types\")\n",
    "ax.set_xlabel('$Number$ $of$ $Studies$')\n",
    "ax.legend(labels=[\"COVID Study Types\"])\n",
    "plt.show()"
   ]
  },
  {
   "cell_type": "code",
   "execution_count": null,
   "metadata": {},
   "outputs": [],
   "source": []
  }
 ],
 "metadata": {
  "kernelspec": {
   "display_name": "Python 3",
   "language": "python",
   "name": "python3"
  },
  "language_info": {
   "codemirror_mode": {
    "name": "ipython",
    "version": 3
   },
   "file_extension": ".py",
   "mimetype": "text/x-python",
   "name": "python",
   "nbconvert_exporter": "python",
   "pygments_lexer": "ipython3",
   "version": "3.7.3"
  }
 },
 "nbformat": 4,
 "nbformat_minor": 4
}
